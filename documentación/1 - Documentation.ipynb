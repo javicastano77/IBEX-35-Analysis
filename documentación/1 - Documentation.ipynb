{
 "cells": [
  {
   "cell_type": "code",
   "execution_count": null,
   "metadata": {},
   "outputs": [],
   "source": []
  },
  {
   "cell_type": "markdown",
   "metadata": {},
   "source": [
    "## Modificaciones de la DF (1 - Current companies) \n",
    "\n",
    "### 1 - DF Original\n",
    "\n",
    "1. Ticker\n",
    "2. Empresa\n",
    "3. Sede\n",
    "4. Entrada\n",
    "5. Sector[28]·\n",
    "6. ISIN\n",
    "7. Ponderación (Sep. 2022)\n",
    "\n",
    "\n",
    "## 2 - Modificaciones en variable 'sector'\n",
    "\n",
    "* Bancos y cajas de ahorro = Banking\n",
    "* Electricidad y gas = Energy                        \n",
    "* Construcción = Industrial Services                              \n",
    "* Energías renovables = Energy                        \n",
    "* Mineral, metales y transformación = Resources         \n",
    "* Transporte y distribución = Logistic                  \n",
    "* Electrónica y software = Hight Tech                     \n",
    "* Telecomunicaciones y otros = Telco                 \n",
    "* Productos farmacéuticos y biotecnología = Pharma   \n",
    "* SOCIMI = Investment                                     \n",
    "* Ingeniería y otros = Industrial                        \n",
    "* Textil, vestido y calzado = Retail                \n",
    "* Transporte y Distribución = Logistic                 \n",
    "* Seguros  = Insurance\n",
    "* Ocio, turismo y hostelería = Travel                 \n",
    "* Petróleo = Energy\n",
    "\n",
    "## 3 - Modificaciones en variable 'empresa'\n",
    "\n",
    "* Amadeus IT Group = Amadeus\n",
    "* ArcelorMittal = Arcelor\n",
    "* Cellnex Telecom = Cellnex\n",
    "* Enagás = Enagas\n",
    "* Indra Sistemas = Indra\n",
    "* Meliá Hotels International = Melia\n",
    "* Red Eléctrica Corporación = REE\n",
    "* Solaria Energía y Medio Ambiente = Solaria\n",
    "* Telefónica = Telefonica\n",
    "* Unicaja Banco = Unicaja\n",
    "\n",
    "### 4 - DF definitivo\n",
    "\n",
    "1. id\n",
    "2. ticker\n",
    "3. empresa\n",
    "4. sector\n",
    "5. Sede\n",
    "6. Entrada\n",
    "\n"
   ]
  },
  {
   "cell_type": "markdown",
   "metadata": {},
   "source": []
  }
 ],
 "metadata": {
  "language_info": {
   "name": "python"
  }
 },
 "nbformat": 4,
 "nbformat_minor": 2
}

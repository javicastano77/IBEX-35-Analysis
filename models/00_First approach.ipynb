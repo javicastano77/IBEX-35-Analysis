{
 "cells": [
  {
   "cell_type": "code",
   "execution_count": 1,
   "metadata": {},
   "outputs": [],
   "source": [
    "# Paso 0: Importar librerias necesarias\n",
    "\n",
    "import pandas as pd\n",
    "import seaborn as sns\n",
    "import matplotlib as plt\n",
    "import numpy as np"
   ]
  },
  {
   "cell_type": "code",
   "execution_count": 2,
   "metadata": {},
   "outputs": [
    {
     "data": {
      "text/html": [
       "<div>\n",
       "<style scoped>\n",
       "    .dataframe tbody tr th:only-of-type {\n",
       "        vertical-align: middle;\n",
       "    }\n",
       "\n",
       "    .dataframe tbody tr th {\n",
       "        vertical-align: top;\n",
       "    }\n",
       "\n",
       "    .dataframe thead th {\n",
       "        text-align: right;\n",
       "    }\n",
       "</style>\n",
       "<table border=\"1\" class=\"dataframe\">\n",
       "  <thead>\n",
       "    <tr style=\"text-align: right;\">\n",
       "      <th></th>\n",
       "      <th>id</th>\n",
       "      <th>ticker</th>\n",
       "      <th>empresa</th>\n",
       "      <th>date</th>\n",
       "      <th>open</th>\n",
       "      <th>high</th>\n",
       "      <th>low</th>\n",
       "      <th>close</th>\n",
       "      <th>adj close</th>\n",
       "      <th>volume</th>\n",
       "    </tr>\n",
       "  </thead>\n",
       "  <tbody>\n",
       "    <tr>\n",
       "      <th>0</th>\n",
       "      <td>1</td>\n",
       "      <td>ANA</td>\n",
       "      <td>Acciona</td>\n",
       "      <td>2019-01-02</td>\n",
       "      <td>73.900002</td>\n",
       "      <td>73.900002</td>\n",
       "      <td>73.900002</td>\n",
       "      <td>73.900002</td>\n",
       "      <td>64.148270</td>\n",
       "      <td>0</td>\n",
       "    </tr>\n",
       "    <tr>\n",
       "      <th>1</th>\n",
       "      <td>1</td>\n",
       "      <td>ANA</td>\n",
       "      <td>Acciona</td>\n",
       "      <td>2022-06-24</td>\n",
       "      <td>174.199997</td>\n",
       "      <td>178.800003</td>\n",
       "      <td>174.000000</td>\n",
       "      <td>178.800003</td>\n",
       "      <td>169.562302</td>\n",
       "      <td>0</td>\n",
       "    </tr>\n",
       "    <tr>\n",
       "      <th>2</th>\n",
       "      <td>1</td>\n",
       "      <td>ANA</td>\n",
       "      <td>Acciona</td>\n",
       "      <td>2022-06-23</td>\n",
       "      <td>169.899994</td>\n",
       "      <td>173.199997</td>\n",
       "      <td>169.000000</td>\n",
       "      <td>173.000000</td>\n",
       "      <td>164.061951</td>\n",
       "      <td>0</td>\n",
       "    </tr>\n",
       "    <tr>\n",
       "      <th>3</th>\n",
       "      <td>1</td>\n",
       "      <td>ANA</td>\n",
       "      <td>Acciona</td>\n",
       "      <td>2022-06-22</td>\n",
       "      <td>171.399994</td>\n",
       "      <td>171.399994</td>\n",
       "      <td>168.800003</td>\n",
       "      <td>170.199997</td>\n",
       "      <td>161.406616</td>\n",
       "      <td>0</td>\n",
       "    </tr>\n",
       "    <tr>\n",
       "      <th>4</th>\n",
       "      <td>1</td>\n",
       "      <td>ANA</td>\n",
       "      <td>Acciona</td>\n",
       "      <td>2022-06-21</td>\n",
       "      <td>179.699997</td>\n",
       "      <td>179.699997</td>\n",
       "      <td>172.300003</td>\n",
       "      <td>173.600006</td>\n",
       "      <td>164.630966</td>\n",
       "      <td>0</td>\n",
       "    </tr>\n",
       "    <tr>\n",
       "      <th>...</th>\n",
       "      <td>...</td>\n",
       "      <td>...</td>\n",
       "      <td>...</td>\n",
       "      <td>...</td>\n",
       "      <td>...</td>\n",
       "      <td>...</td>\n",
       "      <td>...</td>\n",
       "      <td>...</td>\n",
       "      <td>...</td>\n",
       "      <td>...</td>\n",
       "    </tr>\n",
       "    <tr>\n",
       "      <th>44000</th>\n",
       "      <td>35</td>\n",
       "      <td>UNI</td>\n",
       "      <td>Unicaja</td>\n",
       "      <td>2021-03-24</td>\n",
       "      <td>0.802000</td>\n",
       "      <td>0.822000</td>\n",
       "      <td>0.786500</td>\n",
       "      <td>0.819500</td>\n",
       "      <td>0.751219</td>\n",
       "      <td>2616012</td>\n",
       "    </tr>\n",
       "    <tr>\n",
       "      <th>44001</th>\n",
       "      <td>35</td>\n",
       "      <td>UNI</td>\n",
       "      <td>Unicaja</td>\n",
       "      <td>2021-03-23</td>\n",
       "      <td>0.770000</td>\n",
       "      <td>0.807500</td>\n",
       "      <td>0.762500</td>\n",
       "      <td>0.802500</td>\n",
       "      <td>0.735636</td>\n",
       "      <td>2436213</td>\n",
       "    </tr>\n",
       "    <tr>\n",
       "      <th>44002</th>\n",
       "      <td>35</td>\n",
       "      <td>UNI</td>\n",
       "      <td>Unicaja</td>\n",
       "      <td>2021-03-22</td>\n",
       "      <td>0.780000</td>\n",
       "      <td>0.780500</td>\n",
       "      <td>0.760000</td>\n",
       "      <td>0.764000</td>\n",
       "      <td>0.700343</td>\n",
       "      <td>1420069</td>\n",
       "    </tr>\n",
       "    <tr>\n",
       "      <th>44003</th>\n",
       "      <td>35</td>\n",
       "      <td>UNI</td>\n",
       "      <td>Unicaja</td>\n",
       "      <td>2021-03-30</td>\n",
       "      <td>0.867000</td>\n",
       "      <td>0.878500</td>\n",
       "      <td>0.855500</td>\n",
       "      <td>0.877500</td>\n",
       "      <td>0.804387</td>\n",
       "      <td>3028721</td>\n",
       "    </tr>\n",
       "    <tr>\n",
       "      <th>44004</th>\n",
       "      <td>35</td>\n",
       "      <td>UNI</td>\n",
       "      <td>Unicaja</td>\n",
       "      <td>2022-09-19</td>\n",
       "      <td>0.997500</td>\n",
       "      <td>1.015000</td>\n",
       "      <td>0.990000</td>\n",
       "      <td>1.008000</td>\n",
       "      <td>0.960969</td>\n",
       "      <td>1162278</td>\n",
       "    </tr>\n",
       "  </tbody>\n",
       "</table>\n",
       "<p>44005 rows × 10 columns</p>\n",
       "</div>"
      ],
      "text/plain": [
       "       id ticker  empresa        date        open        high         low  \\\n",
       "0       1    ANA  Acciona  2019-01-02   73.900002   73.900002   73.900002   \n",
       "1       1    ANA  Acciona  2022-06-24  174.199997  178.800003  174.000000   \n",
       "2       1    ANA  Acciona  2022-06-23  169.899994  173.199997  169.000000   \n",
       "3       1    ANA  Acciona  2022-06-22  171.399994  171.399994  168.800003   \n",
       "4       1    ANA  Acciona  2022-06-21  179.699997  179.699997  172.300003   \n",
       "...    ..    ...      ...         ...         ...         ...         ...   \n",
       "44000  35    UNI  Unicaja  2021-03-24    0.802000    0.822000    0.786500   \n",
       "44001  35    UNI  Unicaja  2021-03-23    0.770000    0.807500    0.762500   \n",
       "44002  35    UNI  Unicaja  2021-03-22    0.780000    0.780500    0.760000   \n",
       "44003  35    UNI  Unicaja  2021-03-30    0.867000    0.878500    0.855500   \n",
       "44004  35    UNI  Unicaja  2022-09-19    0.997500    1.015000    0.990000   \n",
       "\n",
       "            close   adj close   volume  \n",
       "0       73.900002   64.148270        0  \n",
       "1      178.800003  169.562302        0  \n",
       "2      173.000000  164.061951        0  \n",
       "3      170.199997  161.406616        0  \n",
       "4      173.600006  164.630966        0  \n",
       "...           ...         ...      ...  \n",
       "44000    0.819500    0.751219  2616012  \n",
       "44001    0.802500    0.735636  2436213  \n",
       "44002    0.764000    0.700343  1420069  \n",
       "44003    0.877500    0.804387  3028721  \n",
       "44004    1.008000    0.960969  1162278  \n",
       "\n",
       "[44005 rows x 10 columns]"
      ]
     },
     "execution_count": 2,
     "metadata": {},
     "output_type": "execute_result"
    }
   ],
   "source": [
    "# Paso 1: Importar el DF de todas las empresas del IBEX 35\n",
    "\n",
    "df = pd.read_csv('ibex35.csv')\n",
    "\n",
    "df"
   ]
  },
  {
   "cell_type": "code",
   "execution_count": 3,
   "metadata": {},
   "outputs": [],
   "source": [
    "# Paso 2: Filtrar el DF considerando el periodo post covid (desde 2021 - Act.)\n",
    "\n",
    "\n",
    "df['date'] = pd.to_datetime(df['date'], format='%Y-%m-%d')\n",
    "\n",
    "fecha_inicio = pd.to_datetime('2021-01-01')\n",
    "fecha_actual = pd.to_datetime('2024-03-04')  # Fecha actual\n",
    "\n",
    "df_filtrado = df[(df['date'] >= fecha_inicio) & (df['date'] <= fecha_actual)]"
   ]
  },
  {
   "cell_type": "code",
   "execution_count": 4,
   "metadata": {},
   "outputs": [
    {
     "data": {
      "text/html": [
       "<div>\n",
       "<style scoped>\n",
       "    .dataframe tbody tr th:only-of-type {\n",
       "        vertical-align: middle;\n",
       "    }\n",
       "\n",
       "    .dataframe tbody tr th {\n",
       "        vertical-align: top;\n",
       "    }\n",
       "\n",
       "    .dataframe thead th {\n",
       "        text-align: right;\n",
       "    }\n",
       "</style>\n",
       "<table border=\"1\" class=\"dataframe\">\n",
       "  <thead>\n",
       "    <tr style=\"text-align: right;\">\n",
       "      <th></th>\n",
       "      <th>id</th>\n",
       "      <th>open</th>\n",
       "      <th>high</th>\n",
       "      <th>low</th>\n",
       "      <th>close</th>\n",
       "      <th>adj close</th>\n",
       "      <th>volume</th>\n",
       "    </tr>\n",
       "  </thead>\n",
       "  <tbody>\n",
       "    <tr>\n",
       "      <th>1</th>\n",
       "      <td>1</td>\n",
       "      <td>174.199997</td>\n",
       "      <td>178.800003</td>\n",
       "      <td>174.000000</td>\n",
       "      <td>178.800003</td>\n",
       "      <td>169.562302</td>\n",
       "      <td>0</td>\n",
       "    </tr>\n",
       "    <tr>\n",
       "      <th>2</th>\n",
       "      <td>1</td>\n",
       "      <td>169.899994</td>\n",
       "      <td>173.199997</td>\n",
       "      <td>169.000000</td>\n",
       "      <td>173.000000</td>\n",
       "      <td>164.061951</td>\n",
       "      <td>0</td>\n",
       "    </tr>\n",
       "    <tr>\n",
       "      <th>3</th>\n",
       "      <td>1</td>\n",
       "      <td>171.399994</td>\n",
       "      <td>171.399994</td>\n",
       "      <td>168.800003</td>\n",
       "      <td>170.199997</td>\n",
       "      <td>161.406616</td>\n",
       "      <td>0</td>\n",
       "    </tr>\n",
       "    <tr>\n",
       "      <th>4</th>\n",
       "      <td>1</td>\n",
       "      <td>179.699997</td>\n",
       "      <td>179.699997</td>\n",
       "      <td>172.300003</td>\n",
       "      <td>173.600006</td>\n",
       "      <td>164.630966</td>\n",
       "      <td>0</td>\n",
       "    </tr>\n",
       "    <tr>\n",
       "      <th>5</th>\n",
       "      <td>1</td>\n",
       "      <td>178.000000</td>\n",
       "      <td>179.600006</td>\n",
       "      <td>177.600006</td>\n",
       "      <td>179.000000</td>\n",
       "      <td>169.751953</td>\n",
       "      <td>0</td>\n",
       "    </tr>\n",
       "    <tr>\n",
       "      <th>...</th>\n",
       "      <td>...</td>\n",
       "      <td>...</td>\n",
       "      <td>...</td>\n",
       "      <td>...</td>\n",
       "      <td>...</td>\n",
       "      <td>...</td>\n",
       "      <td>...</td>\n",
       "    </tr>\n",
       "    <tr>\n",
       "      <th>44000</th>\n",
       "      <td>35</td>\n",
       "      <td>0.802000</td>\n",
       "      <td>0.822000</td>\n",
       "      <td>0.786500</td>\n",
       "      <td>0.819500</td>\n",
       "      <td>0.751219</td>\n",
       "      <td>2616012</td>\n",
       "    </tr>\n",
       "    <tr>\n",
       "      <th>44001</th>\n",
       "      <td>35</td>\n",
       "      <td>0.770000</td>\n",
       "      <td>0.807500</td>\n",
       "      <td>0.762500</td>\n",
       "      <td>0.802500</td>\n",
       "      <td>0.735636</td>\n",
       "      <td>2436213</td>\n",
       "    </tr>\n",
       "    <tr>\n",
       "      <th>44002</th>\n",
       "      <td>35</td>\n",
       "      <td>0.780000</td>\n",
       "      <td>0.780500</td>\n",
       "      <td>0.760000</td>\n",
       "      <td>0.764000</td>\n",
       "      <td>0.700343</td>\n",
       "      <td>1420069</td>\n",
       "    </tr>\n",
       "    <tr>\n",
       "      <th>44003</th>\n",
       "      <td>35</td>\n",
       "      <td>0.867000</td>\n",
       "      <td>0.878500</td>\n",
       "      <td>0.855500</td>\n",
       "      <td>0.877500</td>\n",
       "      <td>0.804387</td>\n",
       "      <td>3028721</td>\n",
       "    </tr>\n",
       "    <tr>\n",
       "      <th>44004</th>\n",
       "      <td>35</td>\n",
       "      <td>0.997500</td>\n",
       "      <td>1.015000</td>\n",
       "      <td>0.990000</td>\n",
       "      <td>1.008000</td>\n",
       "      <td>0.960969</td>\n",
       "      <td>1162278</td>\n",
       "    </tr>\n",
       "  </tbody>\n",
       "</table>\n",
       "<p>27477 rows × 7 columns</p>\n",
       "</div>"
      ],
      "text/plain": [
       "       id        open        high         low       close   adj close   volume\n",
       "1       1  174.199997  178.800003  174.000000  178.800003  169.562302        0\n",
       "2       1  169.899994  173.199997  169.000000  173.000000  164.061951        0\n",
       "3       1  171.399994  171.399994  168.800003  170.199997  161.406616        0\n",
       "4       1  179.699997  179.699997  172.300003  173.600006  164.630966        0\n",
       "5       1  178.000000  179.600006  177.600006  179.000000  169.751953        0\n",
       "...    ..         ...         ...         ...         ...         ...      ...\n",
       "44000  35    0.802000    0.822000    0.786500    0.819500    0.751219  2616012\n",
       "44001  35    0.770000    0.807500    0.762500    0.802500    0.735636  2436213\n",
       "44002  35    0.780000    0.780500    0.760000    0.764000    0.700343  1420069\n",
       "44003  35    0.867000    0.878500    0.855500    0.877500    0.804387  3028721\n",
       "44004  35    0.997500    1.015000    0.990000    1.008000    0.960969  1162278\n",
       "\n",
       "[27477 rows x 7 columns]"
      ]
     },
     "execution_count": 4,
     "metadata": {},
     "output_type": "execute_result"
    }
   ],
   "source": [
    "# Paso 3: Seleccionar solo variable numéricas\n",
    "\n",
    "df_numerico = df_filtrado.select_dtypes(include='number')\n",
    "\n",
    "df_numerico\n"
   ]
  },
  {
   "cell_type": "code",
   "execution_count": 5,
   "metadata": {},
   "outputs": [
    {
     "data": {
      "text/plain": [
       "<Figure size 1500x1000 with 0 Axes>"
      ]
     },
     "metadata": {},
     "output_type": "display_data"
    },
    {
     "data": {
      "image/png": "[encoded data removed]",
      "text/plain": [
       "<Figure size 1500x1000 with 2 Axes>"
      ]
     },
     "metadata": {},
     "output_type": "display_data"
    }
   ],
   "source": [
    "# Paso 5: Construir un heatmap para analizar correlaciones\n",
    "\n",
    "import numpy as np\n",
    "import seaborn as sns\n",
    "import matplotlib.pyplot as plt\n",
    "\n",
    "# Asegúrate de que df_filtrado esté definido y tenga datos válidos\n",
    "\n",
    "plt.figure(figsize=(15, 10))\n",
    "\n",
    "sns.set_theme(style='white')\n",
    "\n",
    "# Crear una figura y ejes\n",
    "fig, ax = plt.subplots(figsize=(15, 10))\n",
    "\n",
    "mask = np.triu(np.ones_like(df_numerico.corr(), dtype=bool))\n",
    "\n",
    "cmap = sns.diverging_palette(0, 10, as_cmap=True)\n",
    "\n",
    "sns.heatmap(df_numerico.corr(),\n",
    "            mask=mask,\n",
    "            cmap=cmap,\n",
    "            center=0,\n",
    "            square=True,\n",
    "            annot=True,\n",
    "            linewidths=0.5,\n",
    "            cbar_kws={'shrink': 0.5},\n",
    "            ax=ax)  # Usa el eje creado\n",
    "\n",
    "plt.title('Heatmap de Correlación')\n",
    "plt.show()"
   ]
  },
  {
   "cell_type": "code",
   "execution_count": 6,
   "metadata": {},
   "outputs": [
    {
     "data": {
      "text/html": [
       "<div>\n",
       "<style scoped>\n",
       "    .dataframe tbody tr th:only-of-type {\n",
       "        vertical-align: middle;\n",
       "    }\n",
       "\n",
       "    .dataframe tbody tr th {\n",
       "        vertical-align: top;\n",
       "    }\n",
       "\n",
       "    .dataframe thead th {\n",
       "        text-align: right;\n",
       "    }\n",
       "</style>\n",
       "<table border=\"1\" class=\"dataframe\">\n",
       "  <thead>\n",
       "    <tr style=\"text-align: right;\">\n",
       "      <th></th>\n",
       "      <th>id</th>\n",
       "      <th>ticker</th>\n",
       "      <th>empresa</th>\n",
       "      <th>date</th>\n",
       "      <th>open</th>\n",
       "      <th>high</th>\n",
       "      <th>low</th>\n",
       "      <th>close</th>\n",
       "      <th>adj close</th>\n",
       "      <th>volume</th>\n",
       "    </tr>\n",
       "  </thead>\n",
       "  <tbody>\n",
       "    <tr>\n",
       "      <th>1</th>\n",
       "      <td>1</td>\n",
       "      <td>ANA</td>\n",
       "      <td>Acciona</td>\n",
       "      <td>2022-06-24</td>\n",
       "      <td>174.199997</td>\n",
       "      <td>178.800003</td>\n",
       "      <td>174.000000</td>\n",
       "      <td>178.800003</td>\n",
       "      <td>169.562302</td>\n",
       "      <td>0</td>\n",
       "    </tr>\n",
       "    <tr>\n",
       "      <th>2</th>\n",
       "      <td>1</td>\n",
       "      <td>ANA</td>\n",
       "      <td>Acciona</td>\n",
       "      <td>2022-06-23</td>\n",
       "      <td>169.899994</td>\n",
       "      <td>173.199997</td>\n",
       "      <td>169.000000</td>\n",
       "      <td>173.000000</td>\n",
       "      <td>164.061951</td>\n",
       "      <td>0</td>\n",
       "    </tr>\n",
       "    <tr>\n",
       "      <th>3</th>\n",
       "      <td>1</td>\n",
       "      <td>ANA</td>\n",
       "      <td>Acciona</td>\n",
       "      <td>2022-06-22</td>\n",
       "      <td>171.399994</td>\n",
       "      <td>171.399994</td>\n",
       "      <td>168.800003</td>\n",
       "      <td>170.199997</td>\n",
       "      <td>161.406616</td>\n",
       "      <td>0</td>\n",
       "    </tr>\n",
       "    <tr>\n",
       "      <th>4</th>\n",
       "      <td>1</td>\n",
       "      <td>ANA</td>\n",
       "      <td>Acciona</td>\n",
       "      <td>2022-06-21</td>\n",
       "      <td>179.699997</td>\n",
       "      <td>179.699997</td>\n",
       "      <td>172.300003</td>\n",
       "      <td>173.600006</td>\n",
       "      <td>164.630966</td>\n",
       "      <td>0</td>\n",
       "    </tr>\n",
       "    <tr>\n",
       "      <th>5</th>\n",
       "      <td>1</td>\n",
       "      <td>ANA</td>\n",
       "      <td>Acciona</td>\n",
       "      <td>2022-06-20</td>\n",
       "      <td>178.000000</td>\n",
       "      <td>179.600006</td>\n",
       "      <td>177.600006</td>\n",
       "      <td>179.000000</td>\n",
       "      <td>169.751953</td>\n",
       "      <td>0</td>\n",
       "    </tr>\n",
       "    <tr>\n",
       "      <th>...</th>\n",
       "      <td>...</td>\n",
       "      <td>...</td>\n",
       "      <td>...</td>\n",
       "      <td>...</td>\n",
       "      <td>...</td>\n",
       "      <td>...</td>\n",
       "      <td>...</td>\n",
       "      <td>...</td>\n",
       "      <td>...</td>\n",
       "      <td>...</td>\n",
       "    </tr>\n",
       "    <tr>\n",
       "      <th>1147</th>\n",
       "      <td>1</td>\n",
       "      <td>ANA</td>\n",
       "      <td>Acciona</td>\n",
       "      <td>2021-05-21</td>\n",
       "      <td>137.899994</td>\n",
       "      <td>139.899994</td>\n",
       "      <td>137.899994</td>\n",
       "      <td>138.899994</td>\n",
       "      <td>127.729202</td>\n",
       "      <td>0</td>\n",
       "    </tr>\n",
       "    <tr>\n",
       "      <th>1148</th>\n",
       "      <td>1</td>\n",
       "      <td>ANA</td>\n",
       "      <td>Acciona</td>\n",
       "      <td>2021-05-20</td>\n",
       "      <td>137.000000</td>\n",
       "      <td>138.100006</td>\n",
       "      <td>136.000000</td>\n",
       "      <td>137.600006</td>\n",
       "      <td>126.533760</td>\n",
       "      <td>0</td>\n",
       "    </tr>\n",
       "    <tr>\n",
       "      <th>1149</th>\n",
       "      <td>1</td>\n",
       "      <td>ANA</td>\n",
       "      <td>Acciona</td>\n",
       "      <td>2021-05-19</td>\n",
       "      <td>135.899994</td>\n",
       "      <td>137.300003</td>\n",
       "      <td>135.300003</td>\n",
       "      <td>136.600006</td>\n",
       "      <td>125.614174</td>\n",
       "      <td>0</td>\n",
       "    </tr>\n",
       "    <tr>\n",
       "      <th>1150</th>\n",
       "      <td>1</td>\n",
       "      <td>ANA</td>\n",
       "      <td>Acciona</td>\n",
       "      <td>2021-05-17</td>\n",
       "      <td>135.600006</td>\n",
       "      <td>137.000000</td>\n",
       "      <td>134.800003</td>\n",
       "      <td>135.500000</td>\n",
       "      <td>124.602654</td>\n",
       "      <td>0</td>\n",
       "    </tr>\n",
       "    <tr>\n",
       "      <th>1152</th>\n",
       "      <td>1</td>\n",
       "      <td>ANA</td>\n",
       "      <td>Acciona</td>\n",
       "      <td>2021-04-16</td>\n",
       "      <td>139.199997</td>\n",
       "      <td>140.899994</td>\n",
       "      <td>139.199997</td>\n",
       "      <td>140.899994</td>\n",
       "      <td>129.568359</td>\n",
       "      <td>0</td>\n",
       "    </tr>\n",
       "  </tbody>\n",
       "</table>\n",
       "<p>811 rows × 10 columns</p>\n",
       "</div>"
      ],
      "text/plain": [
       "      id ticker  empresa       date        open        high         low  \\\n",
       "1      1    ANA  Acciona 2022-06-24  174.199997  178.800003  174.000000   \n",
       "2      1    ANA  Acciona 2022-06-23  169.899994  173.199997  169.000000   \n",
       "3      1    ANA  Acciona 2022-06-22  171.399994  171.399994  168.800003   \n",
       "4      1    ANA  Acciona 2022-06-21  179.699997  179.699997  172.300003   \n",
       "5      1    ANA  Acciona 2022-06-20  178.000000  179.600006  177.600006   \n",
       "...   ..    ...      ...        ...         ...         ...         ...   \n",
       "1147   1    ANA  Acciona 2021-05-21  137.899994  139.899994  137.899994   \n",
       "1148   1    ANA  Acciona 2021-05-20  137.000000  138.100006  136.000000   \n",
       "1149   1    ANA  Acciona 2021-05-19  135.899994  137.300003  135.300003   \n",
       "1150   1    ANA  Acciona 2021-05-17  135.600006  137.000000  134.800003   \n",
       "1152   1    ANA  Acciona 2021-04-16  139.199997  140.899994  139.199997   \n",
       "\n",
       "           close   adj close  volume  \n",
       "1     178.800003  169.562302       0  \n",
       "2     173.000000  164.061951       0  \n",
       "3     170.199997  161.406616       0  \n",
       "4     173.600006  164.630966       0  \n",
       "5     179.000000  169.751953       0  \n",
       "...          ...         ...     ...  \n",
       "1147  138.899994  127.729202       0  \n",
       "1148  137.600006  126.533760       0  \n",
       "1149  136.600006  125.614174       0  \n",
       "1150  135.500000  124.602654       0  \n",
       "1152  140.899994  129.568359       0  \n",
       "\n",
       "[811 rows x 10 columns]"
      ]
     },
     "execution_count": 6,
     "metadata": {},
     "output_type": "execute_result"
    }
   ],
   "source": [
    "# Paso 6:  Filtrar datos para analizar empresa Acciona\n",
    "\n",
    "acciona = df_filtrado.loc[df_filtrado['empresa'] == 'Acciona']\n",
    "\n",
    "acciona\n",
    "\n"
   ]
  },
  {
   "cell_type": "code",
   "execution_count": 9,
   "metadata": {},
   "outputs": [
    {
     "data": {
      "image/png": "[encoded data removed]",
      "text/plain": [
       "<Figure size 1200x600 with 1 Axes>"
      ]
     },
     "metadata": {},
     "output_type": "display_data"
    }
   ],
   "source": [
    "# Paso 7: Analizar la distribución del cierre de las acciones en su serie temporal\n",
    "\n",
    "acciona = acciona.sort_values(by='date')\n",
    "\n",
    "plt.figure(figsize=(12, 6))\n",
    "plt.plot(acciona['date'], acciona['close'], marker='None', linestyle='-', color='b')\n",
    "\n",
    "# Añadir etiquetas y título\n",
    "plt.xlabel('Fecha')\n",
    "plt.ylabel('Variable a Trazar')\n",
    "plt.title('Gráfico de Líneas para Variable a Trazar')\n",
    "\n",
    "# Mostrar el gráfico\n",
    "plt.show()"
   ]
  },
  {
   "cell_type": "code",
   "execution_count": 10,
   "metadata": {},
   "outputs": [],
   "source": [
    "# Paso 8:  Separar las 'X' de la 'y'\n",
    "\n",
    "X= acciona.drop(['close','id','ticker','empresa','date'],axis=1)\n",
    "y= acciona.close"
   ]
  },
  {
   "cell_type": "code",
   "execution_count": 11,
   "metadata": {},
   "outputs": [
    {
     "data": {
      "text/plain": [
       "((648, 5), (163, 5), (648,), (163,))"
      ]
     },
     "execution_count": 11,
     "metadata": {},
     "output_type": "execute_result"
    }
   ],
   "source": [
    "# Paso 9: Aplicar el split para el entrenamiento y el testeo del modelo\n",
    "\n",
    "from sklearn.model_selection import train_test_split as tts   \n",
    "\n",
    "\n",
    "X_train, X_test, y_train, y_test = tts(X, y,\n",
    "                                       train_size=0.8,\n",
    "                                       test_size=0.2,\n",
    "                                       random_state=42\n",
    "                                      )\n",
    "\n",
    "X_train.shape, X_test.shape, y_train.shape, y_test.shape"
   ]
  },
  {
   "cell_type": "code",
   "execution_count": 12,
   "metadata": {},
   "outputs": [],
   "source": [
    "# Paso 10: Importar todo los modelos de regresión\n",
    "\n",
    "from sklearn.linear_model import LinearRegression as LinReg   # alias es mio\n",
    "from sklearn.linear_model import Lasso        # regularizacion L1\n",
    "from sklearn.linear_model import Ridge        # regularizacion L2\n",
    "from sklearn.linear_model import ElasticNet   # regularizacion L1+L2\n",
    "from sklearn.svm import SVR  # support vector regressor\n",
    "from sklearn.ensemble import RandomForestRegressor as RFR  \n",
    "from sklearn.tree import ExtraTreeRegressor as ETR\n",
    "from sklearn.ensemble import GradientBoostingRegressor as GBR\n",
    "from xgboost import XGBRegressor as XGBR\n",
    "from catboost import CatBoostRegressor as CTR\n",
    "from lightgbm import LGBMRegressor as LGBMR\n",
    "from sklearn.metrics import mean_squared_error as mse  # error cuadratico medio\n"
   ]
  },
  {
   "cell_type": "code",
   "execution_count": 13,
   "metadata": {},
   "outputs": [],
   "source": [
    "# Paso 11: Llamar a los modelos de regresión seleccionados\n",
    "\n",
    "linreg=LinReg()\n",
    "lasso=Lasso()\n",
    "ridge=Ridge()\n",
    "elastic=ElasticNet()\n",
    "svr=SVR()\n",
    "rfr=RFR()\n",
    "etr=ETR()\n",
    "gbr=GBR()\n",
    "xgbr=XGBR()\n",
    "ctr=CTR()"
   ]
  },
  {
   "cell_type": "code",
   "execution_count": 14,
   "metadata": {},
   "outputs": [
    {
     "data": {
      "text/plain": [
       "<catboost.core.CatBoostRegressor at 0x2948d090890>"
      ]
     },
     "execution_count": 14,
     "metadata": {},
     "output_type": "execute_result"
    }
   ],
   "source": [
    "# Paso 12: Entrenar los modelos de regresión seleccionados\n",
    "\n",
    "linreg.fit(X_train, y_train)   \n",
    "lasso.fit(X_train, y_train)\n",
    "ridge.fit(X_train, y_train)\n",
    "elastic.fit(X_train, y_train)\n",
    "svr.fit(X_train, y_train)\n",
    "rfr.fit(X_train, y_train)\n",
    "etr.fit(X_train, y_train)\n",
    "gbr.fit(X_train, y_train)\n",
    "xgbr.fit(X_train, y_train)\n",
    "ctr.fit(X_train, y_train, verbose=0)"
   ]
  },
  {
   "cell_type": "code",
   "execution_count": 15,
   "metadata": {},
   "outputs": [
    {
     "data": {
      "text/plain": [
       "1.0057505725993325"
      ]
     },
     "execution_count": 15,
     "metadata": {},
     "output_type": "execute_result"
    }
   ],
   "source": [
    "# Paso 13: Predicción modelo de Regresión Lineal\n",
    "\n",
    "linreg.predict(X_test)[:10]\n",
    "y_pred = linreg.predict(X_test)\n",
    "\n",
    "mse(y_test, y_pred, squared=False) "
   ]
  },
  {
   "cell_type": "code",
   "execution_count": 16,
   "metadata": {},
   "outputs": [
    {
     "data": {
      "text/plain": [
       "1.4434231157937294"
      ]
     },
     "execution_count": 16,
     "metadata": {},
     "output_type": "execute_result"
    }
   ],
   "source": [
    "# Paso 13: Predicción del modelo Regularización 1\n",
    "\n",
    "lasso.predict(X_test)[:10]\n",
    "\n",
    "y_pred=lasso.predict(X_test)\n",
    "\n",
    "mse(y_test, y_pred, squared=False) "
   ]
  },
  {
   "cell_type": "code",
   "execution_count": 17,
   "metadata": {},
   "outputs": [
    {
     "data": {
      "text/plain": [
       "1.0060762270725438"
      ]
     },
     "execution_count": 17,
     "metadata": {},
     "output_type": "execute_result"
    }
   ],
   "source": [
    "# Paso 13: Predicción del modelo Regularización 2\n",
    "\n",
    "ridge.predict(X_test)[:10]\n",
    "\n",
    "y_pred=ridge.predict(X_test)\n",
    "\n",
    "mse(y_test, y_pred, squared=False)"
   ]
  },
  {
   "cell_type": "code",
   "execution_count": 18,
   "metadata": {},
   "outputs": [
    {
     "data": {
      "text/plain": [
       "1.3817241750477376"
      ]
     },
     "execution_count": 18,
     "metadata": {},
     "output_type": "execute_result"
    }
   ],
   "source": [
    "# Paso 13: Predicción del modelo Regularización 1+2\n",
    "\n",
    "elastic.predict(X_test)[:10]\n",
    "\n",
    "y_pred=elastic.predict(X_test)\n",
    "\n",
    "mse(y_test, y_pred, squared=False)"
   ]
  },
  {
   "cell_type": "code",
   "execution_count": 19,
   "metadata": {},
   "outputs": [
    {
     "data": {
      "text/plain": [
       "1.2946565821774592"
      ]
     },
     "execution_count": 19,
     "metadata": {},
     "output_type": "execute_result"
    }
   ],
   "source": [
    "# Paso 13: Predicción del modelo Random Forest\n",
    "\n",
    "rfr.predict(X_test)[:10]\n",
    "\n",
    "# rfr\n",
    "\n",
    "y_pred=rfr.predict(X_test)\n",
    "\n",
    "mse(y_test, y_pred, squared=False)  # RMSE\n"
   ]
  },
  {
   "cell_type": "code",
   "execution_count": 20,
   "metadata": {},
   "outputs": [
    {
     "data": {
      "text/plain": [
       "1.5327408596928054"
      ]
     },
     "execution_count": 20,
     "metadata": {},
     "output_type": "execute_result"
    }
   ],
   "source": [
    "# Paso 13: Predicción del modelo Extra Regressor\n",
    "\n",
    "etr.predict(X_test)[:10]\n",
    "\n",
    "\n",
    "y_pred=etr.predict(X_test)\n",
    "\n",
    "mse(y_test, y_pred, squared=False)  # RMSE"
   ]
  },
  {
   "cell_type": "code",
   "execution_count": 21,
   "metadata": {},
   "outputs": [
    {
     "data": {
      "text/plain": [
       "1.4703211552588513"
      ]
     },
     "execution_count": 21,
     "metadata": {},
     "output_type": "execute_result"
    }
   ],
   "source": [
    "# Paso 13: Predicción del modelo XGBR\n",
    "\n",
    "xgbr.predict(X_test)[:10]\n",
    "\n",
    "y_pred=xgbr.predict(X_test)\n",
    "\n",
    "mse(y_test, y_pred, squared=False)  # RMSE"
   ]
  },
  {
   "cell_type": "code",
   "execution_count": 22,
   "metadata": {},
   "outputs": [
    {
     "data": {
      "text/plain": [
       "1.767623038735508"
      ]
     },
     "execution_count": 22,
     "metadata": {},
     "output_type": "execute_result"
    }
   ],
   "source": [
    "# Paso 13: Predicción del modelo Catboost\n",
    "\n",
    "ctr.predict(X_test)[:10]\n",
    "\n",
    "y_pred=ctr.predict(X_test)\n",
    "\n",
    "mse(y_test, y_pred, squared=False)  # RMSE"
   ]
  },
  {
   "cell_type": "code",
   "execution_count": 23,
   "metadata": {},
   "outputs": [
    {
     "data": {
      "image/png": "[encoded data removed]",
      "text/plain": [
       "<Figure size 1000x600 with 1 Axes>"
      ]
     },
     "metadata": {},
     "output_type": "display_data"
    }
   ],
   "source": [
    "# Paso 14: Analizar la importancia de cada variable\n",
    "\n",
    "linreg = LinReg()\n",
    "linreg.fit(X_train, y_train)\n",
    "\n",
    "# Obtener los coeficientes (pesos) de cada característica\n",
    "coeficientes = linreg.coef_\n",
    "\n",
    "# Crear un DataFrame para visualizar la importancia de las características\n",
    "feature_importance = pd.DataFrame({'Feature': X.columns, 'Coefficient': coeficientes})\n",
    "feature_importance = feature_importance.sort_values(by='Coefficient', ascending=False)\n",
    "\n",
    "# Visualizar la importancia de las características\n",
    "plt.figure(figsize=(10, 6))\n",
    "sns.barplot(x='Coefficient', y='Feature', data=feature_importance)\n",
    "plt.title('Importancia de las Características en la Regresión Lineal')\n",
    "plt.show()"
   ]
  },
  {
   "cell_type": "code",
   "execution_count": 24,
   "metadata": {},
   "outputs": [],
   "source": [
    "# Paso 15: Importar herramientas necesarias para modelo AR\n",
    "\n",
    "import warnings\n",
    "warnings.simplefilter('ignore')\n",
    "\n",
    "import pandas as pd\n",
    "import numpy as np\n",
    "\n",
    "import pylab as plt"
   ]
  },
  {
   "cell_type": "code",
   "execution_count": 26,
   "metadata": {},
   "outputs": [
    {
     "data": {
      "text/html": [
       "<div>\n",
       "<style scoped>\n",
       "    .dataframe tbody tr th:only-of-type {\n",
       "        vertical-align: middle;\n",
       "    }\n",
       "\n",
       "    .dataframe tbody tr th {\n",
       "        vertical-align: top;\n",
       "    }\n",
       "\n",
       "    .dataframe thead th {\n",
       "        text-align: right;\n",
       "    }\n",
       "</style>\n",
       "<table border=\"1\" class=\"dataframe\">\n",
       "  <thead>\n",
       "    <tr style=\"text-align: right;\">\n",
       "      <th></th>\n",
       "      <th>date</th>\n",
       "      <th>open</th>\n",
       "      <th>high</th>\n",
       "      <th>low</th>\n",
       "      <th>close</th>\n",
       "      <th>adj close</th>\n",
       "    </tr>\n",
       "  </thead>\n",
       "  <tbody>\n",
       "    <tr>\n",
       "      <th>1036</th>\n",
       "      <td>2021-01-04</td>\n",
       "      <td>117.199997</td>\n",
       "      <td>118.099998</td>\n",
       "      <td>116.699997</td>\n",
       "      <td>116.699997</td>\n",
       "      <td>107.314598</td>\n",
       "    </tr>\n",
       "    <tr>\n",
       "      <th>1035</th>\n",
       "      <td>2021-01-05</td>\n",
       "      <td>117.599998</td>\n",
       "      <td>117.900002</td>\n",
       "      <td>116.099998</td>\n",
       "      <td>116.599998</td>\n",
       "      <td>107.222633</td>\n",
       "    </tr>\n",
       "    <tr>\n",
       "      <th>1034</th>\n",
       "      <td>2021-01-06</td>\n",
       "      <td>117.099998</td>\n",
       "      <td>119.400002</td>\n",
       "      <td>116.500000</td>\n",
       "      <td>119.400002</td>\n",
       "      <td>109.797455</td>\n",
       "    </tr>\n",
       "    <tr>\n",
       "      <th>1033</th>\n",
       "      <td>2021-01-07</td>\n",
       "      <td>119.699997</td>\n",
       "      <td>126.199997</td>\n",
       "      <td>119.699997</td>\n",
       "      <td>125.900002</td>\n",
       "      <td>115.774712</td>\n",
       "    </tr>\n",
       "    <tr>\n",
       "      <th>1032</th>\n",
       "      <td>2021-01-08</td>\n",
       "      <td>127.000000</td>\n",
       "      <td>128.600006</td>\n",
       "      <td>127.000000</td>\n",
       "      <td>127.800003</td>\n",
       "      <td>117.521904</td>\n",
       "    </tr>\n",
       "    <tr>\n",
       "      <th>...</th>\n",
       "      <td>...</td>\n",
       "      <td>...</td>\n",
       "      <td>...</td>\n",
       "      <td>...</td>\n",
       "      <td>...</td>\n",
       "      <td>...</td>\n",
       "    </tr>\n",
       "    <tr>\n",
       "      <th>436</th>\n",
       "      <td>2024-02-26</td>\n",
       "      <td>104.449997</td>\n",
       "      <td>104.449997</td>\n",
       "      <td>101.550003</td>\n",
       "      <td>101.550003</td>\n",
       "      <td>101.550003</td>\n",
       "    </tr>\n",
       "    <tr>\n",
       "      <th>435</th>\n",
       "      <td>2024-02-27</td>\n",
       "      <td>101.349998</td>\n",
       "      <td>104.250000</td>\n",
       "      <td>101.150002</td>\n",
       "      <td>104.199997</td>\n",
       "      <td>104.199997</td>\n",
       "    </tr>\n",
       "    <tr>\n",
       "      <th>434</th>\n",
       "      <td>2024-02-28</td>\n",
       "      <td>104.150002</td>\n",
       "      <td>104.150002</td>\n",
       "      <td>100.000000</td>\n",
       "      <td>100.300003</td>\n",
       "      <td>100.300003</td>\n",
       "    </tr>\n",
       "    <tr>\n",
       "      <th>433</th>\n",
       "      <td>2024-02-29</td>\n",
       "      <td>100.500000</td>\n",
       "      <td>104.050003</td>\n",
       "      <td>100.500000</td>\n",
       "      <td>104.050003</td>\n",
       "      <td>104.050003</td>\n",
       "    </tr>\n",
       "    <tr>\n",
       "      <th>432</th>\n",
       "      <td>2024-03-01</td>\n",
       "      <td>105.050003</td>\n",
       "      <td>109.050003</td>\n",
       "      <td>105.050003</td>\n",
       "      <td>107.000000</td>\n",
       "      <td>107.000000</td>\n",
       "    </tr>\n",
       "  </tbody>\n",
       "</table>\n",
       "<p>811 rows × 6 columns</p>\n",
       "</div>"
      ],
      "text/plain": [
       "           date        open        high         low       close   adj close\n",
       "1036 2021-01-04  117.199997  118.099998  116.699997  116.699997  107.314598\n",
       "1035 2021-01-05  117.599998  117.900002  116.099998  116.599998  107.222633\n",
       "1034 2021-01-06  117.099998  119.400002  116.500000  119.400002  109.797455\n",
       "1033 2021-01-07  119.699997  126.199997  119.699997  125.900002  115.774712\n",
       "1032 2021-01-08  127.000000  128.600006  127.000000  127.800003  117.521904\n",
       "...         ...         ...         ...         ...         ...         ...\n",
       "436  2024-02-26  104.449997  104.449997  101.550003  101.550003  101.550003\n",
       "435  2024-02-27  101.349998  104.250000  101.150002  104.199997  104.199997\n",
       "434  2024-02-28  104.150002  104.150002  100.000000  100.300003  100.300003\n",
       "433  2024-02-29  100.500000  104.050003  100.500000  104.050003  104.050003\n",
       "432  2024-03-01  105.050003  109.050003  105.050003  107.000000  107.000000\n",
       "\n",
       "[811 rows x 6 columns]"
      ]
     },
     "execution_count": 26,
     "metadata": {},
     "output_type": "execute_result"
    }
   ],
   "source": [
    "# Paso 16: Filtrar el DF seleccionando varibles idóneas\n",
    "\n",
    "acciona = acciona[['date','open','high','low','close','adj close']]\n",
    "\n",
    "acciona"
   ]
  },
  {
   "cell_type": "code",
   "execution_count": 30,
   "metadata": {},
   "outputs": [],
   "source": [
    "# Paso 17: Establecer frecuencia de fecha para serie temporal\n",
    "\n",
    "acciona = acciona.set_index('date').asfreq('D')"
   ]
  },
  {
   "cell_type": "code",
   "execution_count": 33,
   "metadata": {},
   "outputs": [
    {
     "data": {
      "text/plain": [
       "(811, 5)"
      ]
     },
     "execution_count": 33,
     "metadata": {},
     "output_type": "execute_result"
    }
   ],
   "source": [
    "# Paso 18: Eliminar valores nulos del DF\n",
    "\n",
    "acciona = acciona.dropna(axis=0)\n",
    "\n",
    "acciona.shape"
   ]
  },
  {
   "cell_type": "code",
   "execution_count": 35,
   "metadata": {},
   "outputs": [
    {
     "data": {
      "text/plain": [
       "<Axes: xlabel='y(t)', ylabel='y(t + 1)'>"
      ]
     },
     "execution_count": 35,
     "metadata": {},
     "output_type": "execute_result"
    },
    {
     "data": {
      "image/png": "[encoded data removed]",
      "text/plain": [
       "<Figure size 640x480 with 1 Axes>"
      ]
     },
     "metadata": {},
     "output_type": "display_data"
    }
   ],
   "source": [
    "# Paso 19: Importar gáfico de lag para analizar la variable y\n",
    "\n",
    "\n",
    "from pandas.plotting import lag_plot\n",
    "\n",
    "lag_plot(acciona.close)"
   ]
  },
  {
   "cell_type": "code",
   "execution_count": 36,
   "metadata": {},
   "outputs": [],
   "source": [
    "# Paso 20: Importar modelo de autoregresión\n",
    "\n",
    "from statsmodels.tsa.ar_model import AutoReg as AR"
   ]
  },
  {
   "cell_type": "code",
   "execution_count": 37,
   "metadata": {},
   "outputs": [
    {
     "data": {
      "text/plain": [
       "((801,), (10,))"
      ]
     },
     "execution_count": 37,
     "metadata": {},
     "output_type": "execute_result"
    }
   ],
   "source": [
    "# Paso 21: Generar split para el entrenamiento y el testeo\n",
    "\n",
    "train, test = acciona.close[:-10], acciona.close[-10:]\n",
    "\n",
    "train.shape, test.shape"
   ]
  },
  {
   "cell_type": "code",
   "execution_count": 44,
   "metadata": {},
   "outputs": [
    {
     "name": "stderr",
     "output_type": "stream",
     "text": [
      "c:\\Users\\javie\\anaconda3\\Lib\\site-packages\\statsmodels\\tsa\\base\\tsa_model.py:473: ValueWarning: A date index has been provided, but it has no associated frequency information and so will be ignored when e.g. forecasting.\n",
      "  self._init_dates(dates, freq)\n"
     ]
    }
   ],
   "source": [
    "# Paso 22: Entrenar modelo de autoregresión\n",
    "\n",
    "modelo = AR(train, lags=1).fit()"
   ]
  },
  {
   "cell_type": "code",
   "execution_count": 49,
   "metadata": {},
   "outputs": [
    {
     "name": "stderr",
     "output_type": "stream",
     "text": [
      "c:\\Users\\javie\\anaconda3\\Lib\\site-packages\\statsmodels\\tsa\\base\\tsa_model.py:836: ValueWarning: No supported index is available. Prediction results will be given with an integer index beginning at `start`.\n",
      "  return get_prediction_index(\n"
     ]
    },
    {
     "data": {
      "text/plain": [
       "10"
      ]
     },
     "execution_count": 49,
     "metadata": {},
     "output_type": "execute_result"
    }
   ],
   "source": [
    "# Paso 23: Realizar la predicción del modelo AR\n",
    "\n",
    "pred = modelo.predict(len(train), len(acciona.close)-1)\n",
    "\n",
    "len(pred)\n"
   ]
  },
  {
   "cell_type": "code",
   "execution_count": 42,
   "metadata": {},
   "outputs": [
    {
     "data": {
      "text/plain": [
       "801    109.409826\n",
       "802    109.668125\n",
       "803    109.924908\n",
       "804    110.180184\n",
       "805    110.433962\n",
       "806    110.686251\n",
       "807    110.937058\n",
       "808    111.186394\n",
       "809    111.434267\n",
       "810    111.680684\n",
       "dtype: float64"
      ]
     },
     "execution_count": 42,
     "metadata": {},
     "output_type": "execute_result"
    }
   ],
   "source": [
    "# Paso 24: Chequear la predicción\n",
    "\n",
    "pred"
   ]
  },
  {
   "cell_type": "code",
   "execution_count": 50,
   "metadata": {},
   "outputs": [
    {
     "data": {
      "text/plain": [
       "date\n",
       "2024-02-19    107.500000\n",
       "2024-02-20    108.550003\n",
       "2024-02-21    108.300003\n",
       "2024-02-22    106.699997\n",
       "2024-02-23    104.750000\n",
       "2024-02-26    101.550003\n",
       "2024-02-27    104.199997\n",
       "2024-02-28    100.300003\n",
       "2024-02-29    104.050003\n",
       "2024-03-01    107.000000\n",
       "Name: close, dtype: float64"
      ]
     },
     "execution_count": 50,
     "metadata": {},
     "output_type": "execute_result"
    }
   ],
   "source": [
    "# Paso 25: Chequear el testeo\n",
    "\n",
    "test"
   ]
  }
 ],
 "metadata": {
  "kernelspec": {
   "display_name": "base",
   "language": "python",
   "name": "python3"
  },
  "language_info": {
   "codemirror_mode": {
    "name": "ipython",
    "version": 3
   },
   "file_extension": ".py",
   "mimetype": "text/x-python",
   "name": "python",
   "nbconvert_exporter": "python",
   "pygments_lexer": "ipython3",
   "version": "3.11.5"
  }
 },
 "nbformat": 4,
 "nbformat_minor": 2
}
